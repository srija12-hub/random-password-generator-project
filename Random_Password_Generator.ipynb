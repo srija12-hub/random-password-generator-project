{
  "nbformat": 4,
  "nbformat_minor": 0,
  "metadata": {
    "colab": {
      "provenance": [],
      "authorship_tag": "ABX9TyMX2tpaFOxKDPCA92S+u3tS",
      "include_colab_link": true
    },
    "kernelspec": {
      "name": "python3",
      "display_name": "Python 3"
    },
    "language_info": {
      "name": "python"
    }
  },
  "cells": [
    {
      "cell_type": "markdown",
      "metadata": {
        "id": "view-in-github",
        "colab_type": "text"
      },
      "source": [
        "<a href=\"https://colab.research.google.com/github/Udayshaka/Random-Password-Generator/blob/main/Random_Password_Generator.ipynb\" target=\"_parent\"><img src=\"https://colab.research.google.com/assets/colab-badge.svg\" alt=\"Open In Colab\"/></a>"
      ]
    },
    {
      "cell_type": "code",
      "execution_count": 1,
      "metadata": {
        "colab": {
          "base_uri": "https://localhost:8080/"
        },
        "id": "n8BZOvNqJpT4",
        "outputId": "8fc28f48-96b4-4ea3-c62f-5e65f4b10088"
      },
      "outputs": [
        {
          "output_type": "stream",
          "name": "stdout",
          "text": [
            "Enter the password length: 5\n",
            "Include uppercase letters? (y/n): y\n",
            "Include digits? (y/n): y\n",
            "Include symbols? (y/n): y\n",
            "Generated Password: &+1yD\n"
          ]
        }
      ],
      "source": [
        "import random\n",
        "import string\n",
        "\n",
        "def generate_password(length=12, use_uppercase=True, use_digits=True, use_symbols=True):\n",
        "    lower = string.ascii_lowercase\n",
        "    upper = string.ascii_uppercase if use_uppercase else ''\n",
        "    digits = string.digits if use_digits else ''\n",
        "    symbols = string.punctuation if use_symbols else ''\n",
        "\n",
        "    all_chars = lower + upper + digits + symbols\n",
        "\n",
        "    if not all_chars:\n",
        "        raise ValueError(\"At least one character set must be selected\")\n",
        "\n",
        "    # Ensure the password contains at least one of each selected type\n",
        "    password = []\n",
        "\n",
        "    if use_uppercase:\n",
        "        password.append(random.choice(upper))\n",
        "    if use_digits:\n",
        "        password.append(random.choice(digits))\n",
        "    if use_symbols:\n",
        "        password.append(random.choice(symbols))\n",
        "\n",
        "    # Fill the rest with random choices from all available characters\n",
        "    while len(password) < length:\n",
        "        password.append(random.choice(all_chars))\n",
        "\n",
        "    # Shuffle to avoid predictable patterns\n",
        "    random.shuffle(password)\n",
        "    return ''.join(password)\n",
        "\n",
        "# Example usage\n",
        "if __name__ == \"__main__\":\n",
        "    length = int(input(\"Enter the password length: \"))\n",
        "    use_upper = input(\"Include uppercase letters? (y/n): \").lower() == 'y'\n",
        "    use_digits = input(\"Include digits? (y/n): \").lower() == 'y'\n",
        "    use_symbols = input(\"Include symbols? (y/n): \").lower() == 'y'\n",
        "\n",
        "    try:\n",
        "        password = generate_password(length, use_upper, use_digits, use_symbols)\n",
        "        print(f\"Generated Password: {password}\")\n",
        "    except ValueError as e:\n",
        "        print(f\"Error: {e}\")\n"
      ]
    },
    {
      "cell_type": "code",
      "source": [],
      "metadata": {
        "id": "HXt3_MNrLcLt"
      },
      "execution_count": null,
      "outputs": []
    }
  ]
}